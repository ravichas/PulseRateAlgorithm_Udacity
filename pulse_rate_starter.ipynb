{
 "cells": [
  {
   "cell_type": "markdown",
   "metadata": {},
   "source": [
    "## Part 1: Pulse Rate Algorithm\n",
    "\n",
    "### Contents\n",
    "Fill out this notebook as part of your final project submission.\n",
    "\n",
    "**You will have to complete both the Code and Project Write-up sections.**\n",
    "- The [Code](#Code) is where you will write a **pulse rate algorithm** and already includes the starter code.\n",
    "   - Imports - These are the imports needed for Part 1 of the final project. \n",
    "     - [glob](https://docs.python.org/3/library/glob.html)\n",
    "     - [numpy](https://numpy.org/)\n",
    "     - [scipy](https://www.scipy.org/)\n",
    "- The [Project Write-up](#Project-Write-up) to describe why you wrote the algorithm for the specific case.\n",
    "\n",
    "\n",
    "### Dataset\n",
    "You will be using the **Troika**[1] dataset to build your algorithm. Find the dataset under `datasets/troika/training_data`. The `README` in that folder will tell you how to interpret the data. The starter code contains a function to help load these files.\n",
    "\n",
    "1. Zhilin Zhang, Zhouyue Pi, Benyuan Liu, ‘‘TROIKA: A General Framework for Heart Rate Monitoring Using Wrist-Type Photoplethysmographic Signals During Intensive Physical Exercise,’’IEEE Trans. on Biomedical Engineering, vol. 62, no. 2, pp. 522-531, February 2015. Link\n",
    "\n",
    "-----"
   ]
  },
  {
   "cell_type": "markdown",
   "metadata": {},
   "source": [
    "### Code"
   ]
  },
  {
   "cell_type": "code",
   "execution_count": 32,
   "metadata": {},
   "outputs": [],
   "source": [
    "import glob\n",
    "\n",
    "import numpy as np\n",
    "import scipy as sp\n",
    "import scipy.io\n",
    "\n",
    "import pandas as pd\n",
    "import matplotlib.pyplot as plt\n",
    "import matplotlib as mpl \n",
    "\n",
    "import scipy.signal\n",
    "\n",
    "# sampling rate\n",
    "fs = 125\n",
    "\n",
    "def LoadTroikaDataset():\n",
    "    \"\"\"\n",
    "    Retrieve the .mat filenames for the troika dataset.\n",
    "\n",
    "    Review the README in ./datasets/troika/ to understand the organization of the .mat files.\n",
    "\n",
    "    Returns:\n",
    "        data_fls: Names of the .mat files that contain signal data\n",
    "        ref_fls: Names of the .mat files that contain reference data\n",
    "        <data_fls> and <ref_fls> are ordered correspondingly, so that ref_fls[5] is the \n",
    "            reference data for data_fls[5], etc...\n",
    "    \"\"\"\n",
    "    data_dir = \"./datasets/troika/training_data\"\n",
    "    data_fls = sorted(glob.glob(data_dir + \"/DATA_*.mat\"))\n",
    "    ref_fls = sorted(glob.glob(data_dir + \"/REF_*.mat\"))\n",
    "    return data_fls, ref_fls\n",
    "\n",
    "def LoadTroikaDataFile(data_fl):\n",
    "    \"\"\"\n",
    "    Loads and extracts signals from a troika data file.\n",
    "\n",
    "    Usage:\n",
    "        data_fls, ref_fls = LoadTroikaDataset()\n",
    "        ppg, accx, accy, accz = LoadTroikaDataFile(data_fls[0])\n",
    "\n",
    "    Args:\n",
    "        data_fl: (str) filepath to a troika .mat file.\n",
    "\n",
    "    Returns:\n",
    "        numpy arrays for ppg, accx, accy, accz signals.\n",
    "    \"\"\"\n",
    "    data = sp.io.loadmat(data_fl)['sig']\n",
    "    # only return the ppg, x, y, z \n",
    "    return data[2:]\n",
    "\n",
    "def AggregateErrorMetric(pr_errors, confidence_est):\n",
    "    \"\"\"\n",
    "    Computes an aggregate error metric based on confidence estimates.\n",
    "\n",
    "    Computes the MAE at 90% availability. \n",
    "\n",
    "    Args:\n",
    "        pr_errors: a numpy array of errors between pulse rate estimates and corresponding \n",
    "            reference heart rates.\n",
    "        confidence_est: a numpy array of confidence estimates for each pulse rate\n",
    "            error.\n",
    "\n",
    "    Returns:\n",
    "        the MAE at 90% availability\n",
    "    \"\"\"\n",
    "    # Higher confidence means a better estimate. The best 90% of the estimates\n",
    "    #    are above the 10th percentile confidence.\n",
    "    percentile90_confidence = np.percentile(confidence_est, 10)\n",
    "\n",
    "    # Find the errors of the best pulse rate estimates\n",
    "    best_estimates = pr_errors[confidence_est >= percentile90_confidence]\n",
    "\n",
    "    # Return the mean absolute error\n",
    "    return np.mean(np.abs(best_estimates))\n",
    "\n",
    "def Evaluate():\n",
    "    \"\"\"\n",
    "    Top-level function evaluation function.\n",
    "\n",
    "    Runs the pulse rate algorithm on the Troika dataset and returns an aggregate error metric.\n",
    "\n",
    "    Returns:\n",
    "        Pulse rate error on the Troika dataset. See AggregateErrorMetric.\n",
    "    \"\"\"\n",
    "    # Retrieve dataset files\n",
    "    data_fls, ref_fls = LoadTroikaDataset()\n",
    "    errs, confs = [], []\n",
    "    for data_fl, ref_fl in zip(data_fls, ref_fls):\n",
    "        # Run the pulse rate algorithm on each trial in the dataset\n",
    "        errors, confidence = RunPulseRateAlgorithm(data_fl, ref_fl)\n",
    "        errs.append(errors)\n",
    "        confs.append(confidence)\n",
    "        # Compute aggregate error metric\n",
    "    errs = np.hstack(errs)\n",
    "    confs = np.hstack(confs)\n",
    "    print(errs, confs)\n",
    "    return AggregateErrorMetric(errs, confs)\n",
    "\n",
    "def BandpassFilter(signal, pass_band, fs):\n",
    "    \"\"\"Bandpass Filter.\n",
    "    # based on Udacity class notes\n",
    "    \n",
    "    Args:\n",
    "        signal: (np.array) The input signal\n",
    "        pass_band: (tuple) The pass band. Frequency components outside \n",
    "            the two elements in the tuple will be removed.\n",
    "        fs: (number) The sampling rate of <signal>\n",
    "        \n",
    "    Returns:\n",
    "        (np.array) The filtered signal\n",
    "    \"\"\"\n",
    "    # NEW\n",
    "    b, a = sp.signal.butter(3, pass_band, btype='bandpass', fs=fs)\n",
    "    return sp.signal.filtfilt(b, a, signal)\n",
    "\n",
    "def RunPulseRateAlgorithm(data_fl, ref_fl):\n",
    "    \"\"\"\n",
    "    Estimates pulse rate and Confidence  \n",
    "    \n",
    "    Args: \n",
    "        date_fl: (str) filepath to troika *.mat file \n",
    "    Returns: \n",
    "        errors: Calculated errors for each heart rate \n",
    "        Confidence: Calculated Confidence for each heart rate \n",
    "    \"\"\"\n",
    "    # Load data using LoadTroikaDataFile\n",
    "    # photoplethysmogram (PPG) \n",
    "    ppg, accx, accy, accz = LoadTroikaDataFile(data_fl)\n",
    "    #print(ppg)\n",
    "    \n",
    "    # Compute pulse rate estimates and estimation confidence.\n",
    "    # NEW\n",
    "    \n",
    "    # All signals were sampled at 125 Hz.\n",
    "    fs = 125 \n",
    "    \n",
    "    # win_len \n",
    "    win_len = 8 \n",
    "    # win_shift\n",
    "    win_shift = 2\n",
    "    nfft_window = fs * 8 \n",
    "    noverlap = fs * 6 \n",
    "    \n",
    "    # filter the signal\n",
    "    filtered_ppg = BandpassFilter(ppg, (40/60.0,240/60.0), fs=fs)   \n",
    "\n",
    "    accx = BandpassFilter(accx, (40/60.0,240/60.0), fs=fs)\n",
    "    accy = BandpassFilter(accy, (40/60.0,240/60.0), fs=fs) \n",
    "    accz = BandpassFilter(accz, (40/60.0,240/60.0), fs=fs) \n",
    "    \n",
    "    # acc magnitude based on accelerometer deep-dive lecture \n",
    "    acc = np.sqrt(accx**2 + accy**2 + accz**2)\n",
    "    \n",
    "    # extract the ground truth as a flattened vector \n",
    "    true_vals = scipy.io.loadmat(ref_fl)['BPM0'].reshape(-1)\n",
    "    \n",
    "    # call predict_heart_rate to get predictions and confidence \n",
    "    predictions, confidence = predict_heart_rate(acc, ppg, fs)\n",
    "    print(\"acc\", acc)\n",
    "    print(\"ppg\", ppg)\n",
    "    print(\"C\", confidence)\n",
    "\n",
    "    errors = np.abs(predictions - true_vals)\n",
    "    \n",
    "    # estimate errors and confidence and return them\n",
    "    \n",
    "    # Return per-estimate mean absolute error and confidence as a 2-tuple of numpy arrays.\n",
    "    # errors, confidence = np.ones(100), np.ones(100)  # Dummy placeholders. Remove\n",
    "    \n",
    "    return np.array(errors), np.array(confidence)\n",
    "\n",
    "\n",
    "def FT(acc_s, fs):\n",
    "    \"\"\"\n",
    "    Take a Fourier Transform (FT) of a signal and return the frequencies\n",
    "    Args: \n",
    "        accx: (numpy array) signal \n",
    "        fs: (int) Sampling frequency in Hertz \n",
    "    Returns: \n",
    "        fft: (float) FT magnitudes\n",
    "        freqs: (numpy array) frequencies \n",
    "    \"\"\"\n",
    "    # NEW\n",
    "    \n",
    "    # based on activity_classifier_utils.py code and class notes\n",
    "    fft_len = max(len(acc_s), 2046)\n",
    "    \n",
    "    # create an array of frequency bins \n",
    "    fft_freqs = np.fft.rfftfreq(fft_len, 1/fs)\n",
    "    \n",
    "    fft = np.fft.rfft(acc_s, fft_len)\n",
    "    \n",
    "    return fft_freqs, fft\n",
    "    \n",
    "def predict_heart_rate(acc, ppg, fs,\n",
    "                       window_len = 8, \n",
    "                       window_shift = 2, \n",
    "                       min_bp = 40/60.0, \n",
    "                       max_bp = 240/60.0 ):\n",
    "    \n",
    "#     estimates pulse rate from the PPG signal and a 3-axis accelerometer. \n",
    "#     assumes pulse rate will be restricted between 40 BPM (min_bp; beats per minute) and 240 BPM\n",
    "#     produces an estimation confidence. A higher confidence value means that this \n",
    "#     (max_bp) estimate should be more accurate than an estimate with a lower confidence value.\n",
    "#     produces an output at least every 2 seconds.\n",
    "\n",
    "#     \n",
    "    \n",
    "    window_len = window_len * fs \n",
    "    window_shift = window_shift * fs \n",
    "    window_hw = 1\n",
    "    \n",
    "    # create empty list to add later \n",
    "    confidence = []\n",
    "    bpm0_pred = []\n",
    "    \n",
    "    # loop over the samples\n",
    "    \n",
    "    wfrom = len(ppg) - window_len + 1 \n",
    "    wto = window_shift\n",
    "    \n",
    "    for i in range(0, wfrom, wto ): \n",
    "        \n",
    "        # Let us now focus on the current window \n",
    "        ppg_w = ppg[i:i+window_len]\n",
    "        acc_w = acc[i:i+window_len]\n",
    "        \n",
    "        #Let us do FT \n",
    "        ppg_fs, ppg_fft = FT(ppg_w, fs)\n",
    "        acc_fs, acc_fft = FT(acc_w, fs)\n",
    "        \n",
    "        # restrict to only pulse rate indicated by the paper \n",
    "        # Remember to bandpass filter all your signals. \n",
    "        # Use the 40-240BPM range to create your pass band.\n",
    "\n",
    "        acc_fft[acc_fs <= min_bp] = 0.0\n",
    "        acc_fft[acc_fs >= max_bp] = 0.0\n",
    "        \n",
    "        ppg_fft[ppg_fs <= min_bp] = 0.0\n",
    "        ppg_fft[ppg_fs >= min_bp] = 0.0\n",
    "        \n",
    "        # You can plot your estimates on top of the spectrogram to \n",
    "        # see where things are going wrong.\n",
    "        \n",
    "#         plt.figure(figsize=(12,8))\n",
    "#         plt.specgram(acc_fft, Fs=fs, NFFT=250, noverlap=125, \n",
    "#                     xextent=[0, len(acc_fft)/fs/60])\n",
    "#         plt.show()\n",
    "        \n",
    "        # When the dominant accelerometer frequency is \n",
    "        # the same as the PPG, try picking the next strongest PPG \n",
    "        # frequency if there is another good candidate.\n",
    "        \n",
    "        ppg_freq = ppg_fs[np.argmax(ppg_fft, axis=0)]\n",
    "        acc_freq = acc_fs[np.argmax(acc_fft, axis=0)]\n",
    "        \n",
    "        ffreq = ppg_freq\n",
    "        # Confidence calculator \n",
    "        # take ppg_fft, ppg_freq and ppg_fs\n",
    "        \n",
    "#         cond1 = (ppg_fs > ppg_freq - window_hw) \n",
    "#         cond2 = (ppg_fs < ppg_freq + window_hw)\n",
    "        w = (ppg_fs > ppg_freq - window_hw)  & (ppg_fs < ppg_freq + window_hw)\n",
    "        conf = np.sum(ppg_fft[w])/np.sum(ppg_fft)\n",
    "        # check to see whether the freq are the same \n",
    "        \n",
    "        if abs(ppg_freq - acc_freq) == 0:\n",
    "            # pick the next strongest one \n",
    "            temp_freq = ppg_freq[np.argsort(ppg_fft,axis=0)[-2]]\n",
    "            # cal new conf\n",
    "#             cond1 = (ppg_fs > temp_freq - window_hw) \n",
    "#             cond2 = (ppg_fs < temp_freq + window_hw)\n",
    "            w = (ppg_fs > temp_freq - window_hw)  & (ppg_fs < temp_freq + window_hw)\n",
    "            temp_conf = np.sum(ppg_fft[w])/np.sum(ppg_fft)\n",
    "            \n",
    "            if (temp_conf > conf):\n",
    "                ffreq = temp_freq\n",
    "                conf = temp_conf\n",
    "            \n",
    "        bpm0_pred.append(ffreq * 60) \n",
    "        confidence.append(conf)\n",
    "    \n",
    "    return bpm0_pred, confidence\n",
    "\n",
    " \n",
    "    \n",
    "    \n",
    "    "
   ]
  },
  {
   "cell_type": "markdown",
   "metadata": {},
   "source": [
    "## Testing dataset"
   ]
  },
  {
   "cell_type": "markdown",
   "metadata": {},
   "source": [
    "Dataset contains 12 persons' PPG and three dimensions(x, y, z) accelerometer signal values. All subjects are male and they are between 18-35 years old. The data collected by wearing a wrist device while resting(30 sec) walking, running(4 min) and during a brief cooldown(30 sec) on a treadmill. All signals were sampled at 125 Hz.\n",
    "\n",
    "Each dataset with the similar name 'DATA_01_TYPE01' contains a variable 'sig'. It has 6 rows. The first\n",
    "row is a simultaneous recording of ECG, which is recorded from the chest of each subject. The\n",
    "second row and the third row are two channels of PPG, which are recorded from the wrist of each\n",
    "subject. The last three rows are simultaneous recordings of acceleration data (in x-, y-, and z-axis). "
   ]
  },
  {
   "cell_type": "code",
   "execution_count": 33,
   "metadata": {},
   "outputs": [],
   "source": [
    "data_fls, ref_fls = LoadTroikaDataset()"
   ]
  },
  {
   "cell_type": "code",
   "execution_count": 34,
   "metadata": {},
   "outputs": [
    {
     "data": {
      "text/plain": [
       "array([[  4.00000000e+00,   6.00000000e+00,   3.00000000e+00, ...,\n",
       "          8.60000000e+01,   1.04000000e+02,   1.18500000e+02],\n",
       "       [ -7.02000000e-02,  -7.02000000e-02,  -5.46000000e-02, ...,\n",
       "          4.13400000e-01,   4.13400000e-01,   4.13400000e-01],\n",
       "       [  3.43200000e-01,   3.58800000e-01,   3.66600000e-01, ...,\n",
       "         -2.80800000e-01,  -2.73000000e-01,  -2.73000000e-01],\n",
       "       [  9.59400000e-01,   9.43800000e-01,   9.36000000e-01, ...,\n",
       "          7.25400000e-01,   7.17600000e-01,   7.25400000e-01]])"
      ]
     },
     "execution_count": 34,
     "metadata": {},
     "output_type": "execute_result"
    }
   ],
   "source": [
    "LoadTroikaDataFile('./datasets/troika/training_data/DATA_01_TYPE01.mat')"
   ]
  },
  {
   "cell_type": "code",
   "execution_count": 35,
   "metadata": {},
   "outputs": [
    {
     "data": {
      "text/plain": [
       "['./datasets/troika/training_data/DATA_01_TYPE01.mat',\n",
       " './datasets/troika/training_data/DATA_02_TYPE02.mat',\n",
       " './datasets/troika/training_data/DATA_03_TYPE02.mat',\n",
       " './datasets/troika/training_data/DATA_04_TYPE01.mat',\n",
       " './datasets/troika/training_data/DATA_04_TYPE02.mat',\n",
       " './datasets/troika/training_data/DATA_05_TYPE02.mat',\n",
       " './datasets/troika/training_data/DATA_06_TYPE02.mat',\n",
       " './datasets/troika/training_data/DATA_07_TYPE02.mat',\n",
       " './datasets/troika/training_data/DATA_08_TYPE02.mat',\n",
       " './datasets/troika/training_data/DATA_10_TYPE02.mat',\n",
       " './datasets/troika/training_data/DATA_11_TYPE02.mat',\n",
       " './datasets/troika/training_data/DATA_12_TYPE02.mat']"
      ]
     },
     "execution_count": 35,
     "metadata": {},
     "output_type": "execute_result"
    }
   ],
   "source": [
    "data_fls"
   ]
  },
  {
   "cell_type": "code",
   "execution_count": 36,
   "metadata": {},
   "outputs": [
    {
     "data": {
      "text/plain": [
       "(148, 1)"
      ]
     },
     "execution_count": 36,
     "metadata": {},
     "output_type": "execute_result"
    }
   ],
   "source": [
    "scipy.io.loadmat('./datasets/troika/training_data/REF_01_TYPE01.mat')['BPM0'].shape"
   ]
  },
  {
   "cell_type": "code",
   "execution_count": 37,
   "metadata": {},
   "outputs": [
    {
     "data": {
      "text/plain": [
       "['./datasets/troika/training_data/DATA_01_TYPE01.mat',\n",
       " './datasets/troika/training_data/DATA_02_TYPE02.mat',\n",
       " './datasets/troika/training_data/DATA_03_TYPE02.mat',\n",
       " './datasets/troika/training_data/DATA_04_TYPE01.mat',\n",
       " './datasets/troika/training_data/DATA_04_TYPE02.mat',\n",
       " './datasets/troika/training_data/DATA_05_TYPE02.mat',\n",
       " './datasets/troika/training_data/DATA_06_TYPE02.mat',\n",
       " './datasets/troika/training_data/DATA_07_TYPE02.mat',\n",
       " './datasets/troika/training_data/DATA_08_TYPE02.mat',\n",
       " './datasets/troika/training_data/DATA_10_TYPE02.mat',\n",
       " './datasets/troika/training_data/DATA_11_TYPE02.mat',\n",
       " './datasets/troika/training_data/DATA_12_TYPE02.mat']"
      ]
     },
     "execution_count": 37,
     "metadata": {},
     "output_type": "execute_result"
    }
   ],
   "source": [
    "data_fls"
   ]
  },
  {
   "cell_type": "code",
   "execution_count": 38,
   "metadata": {},
   "outputs": [
    {
     "name": "stdout",
     "output_type": "stream",
     "text": [
      "[ 74.33920705  76.35746606  77.14285714  74.66814159  72.58064516\n",
      "  71.68458781  72.89416847  73.44940152  75.33482143  76.8442623 ]\n",
      "(148,)\n",
      "float64\n"
     ]
    }
   ],
   "source": [
    "# flatten \n",
    "GT = scipy.io.loadmat('./datasets/troika/training_data/REF_01_TYPE01.mat')['BPM0'].reshape(-1)\n",
    "print(GT[0:10])\n",
    "print(GT.shape)\n",
    "print(GT.dtype)\n"
   ]
  },
  {
   "cell_type": "code",
   "execution_count": 39,
   "metadata": {},
   "outputs": [
    {
     "name": "stdout",
     "output_type": "stream",
     "text": [
      "{'__header__': b'MATLAB 5.0 MAT-file, Platform: PCWIN64, Created on: Tue Aug 12 01:04:51 2014', '__version__': '1.0', '__globals__': [], 'sig': array([[ -2.69500000e+02,  -2.67500000e+02,  -2.67500000e+02, ...,\n",
      "         -1.88500000e+02,  -2.09000000e+02,  -2.32000000e+02],\n",
      "       [ -2.30000000e+01,  -2.40000000e+01,  -2.65000000e+01, ...,\n",
      "          6.70000000e+01,   8.45000000e+01,   1.00000000e+02],\n",
      "       [  4.00000000e+00,   6.00000000e+00,   3.00000000e+00, ...,\n",
      "          8.60000000e+01,   1.04000000e+02,   1.18500000e+02],\n",
      "       [ -7.02000000e-02,  -7.02000000e-02,  -5.46000000e-02, ...,\n",
      "          4.13400000e-01,   4.13400000e-01,   4.13400000e-01],\n",
      "       [  3.43200000e-01,   3.58800000e-01,   3.66600000e-01, ...,\n",
      "         -2.80800000e-01,  -2.73000000e-01,  -2.73000000e-01],\n",
      "       [  9.59400000e-01,   9.43800000e-01,   9.36000000e-01, ...,\n",
      "          7.25400000e-01,   7.17600000e-01,   7.25400000e-01]])}\n",
      "dict_keys(['__header__', '__version__', '__globals__', 'sig'])\n",
      "float64\n"
     ]
    },
    {
     "data": {
      "text/plain": [
       "(6, 37937)"
      ]
     },
     "execution_count": 39,
     "metadata": {},
     "output_type": "execute_result"
    }
   ],
   "source": [
    "from scipy.io import loadmat\n",
    "\n",
    "data_set = loadmat(\"./datasets/troika/training_data/DATA_01_TYPE01.mat\")\n",
    "print(data_set)\n",
    "print(data_set.keys())\n",
    "\n",
    "rows = data_set['sig']\n",
    "print(rows.dtype)\n",
    "\n",
    "rows.shape\n",
    "\n",
    "round(37937 / fs / 60)  # 5 minutes \n",
    "\n",
    "# Each dataset with the similar name 'DATA_01_TYPE01' contains a variable 'sig'. It has 6 rows. \n",
    "rows.shape"
   ]
  },
  {
   "cell_type": "code",
   "execution_count": 40,
   "metadata": {},
   "outputs": [
    {
     "name": "stdout",
     "output_type": "stream",
     "text": [
      "(4, 37937)\n"
     ]
    }
   ],
   "source": [
    "data_01 = LoadTroikaDataFile('./datasets/troika/training_data/DATA_01_TYPE01.mat')\n",
    "print(data_01.shape)"
   ]
  },
  {
   "cell_type": "markdown",
   "metadata": {},
   "source": [
    "## Evaluate the Pulse Rate Algorithm"
   ]
  },
  {
   "cell_type": "code",
   "execution_count": 41,
   "metadata": {},
   "outputs": [
    {
     "name": "stderr",
     "output_type": "stream",
     "text": [
      "/opt/conda/lib/python3.6/site-packages/ipykernel_launcher.py:264: RuntimeWarning: invalid value encountered in cdouble_scalars\n"
     ]
    },
    {
     "name": "stdout",
     "output_type": "stream",
     "text": [
      "acc [ 0.02203684  0.02803522  0.03435165 ...,  0.01121658  0.0104505\n",
      "  0.00960517]\n",
      "ppg [   4.     6.     3.  ...,   86.   104.   118.5]\n",
      "C [(nan+nan*j), (nan+nan*j), (nan+nan*j), (nan+nan*j), (nan+nan*j), (nan+nan*j), (nan+nan*j), (nan+nan*j), (nan+nan*j), (nan+nan*j), (nan+nan*j), (nan+nan*j), (nan+nan*j), (nan+nan*j), (nan+nan*j), (nan+nan*j), (nan+nan*j), (nan+nan*j), (nan+nan*j), (nan+nan*j), (nan+nan*j), (nan+nan*j), (nan+nan*j), (nan+nan*j), (nan+nan*j), (nan+nan*j), (nan+nan*j), (nan+nan*j), (nan+nan*j), (nan+nan*j), (nan+nan*j), (nan+nan*j), (nan+nan*j), (nan+nan*j), (nan+nan*j), (nan+nan*j), (nan+nan*j), (nan+nan*j), (nan+nan*j), (nan+nan*j), (nan+nan*j), (nan+nan*j), (nan+nan*j), (nan+nan*j), (nan+nan*j), (nan+nan*j), (nan+nan*j), (nan+nan*j), (nan+nan*j), (nan+nan*j), (nan+nan*j), (nan+nan*j), (nan+nan*j), (nan+nan*j), (nan+nan*j), (nan+nan*j), (nan+nan*j), (nan+nan*j), (nan+nan*j), (nan+nan*j), (nan+nan*j), (nan+nan*j), (nan+nan*j), (nan+nan*j), (nan+nan*j), (nan+nan*j), (nan+nan*j), (nan+nan*j), (nan+nan*j), (nan+nan*j), (nan+nan*j), (nan+nan*j), (nan+nan*j), (nan+nan*j), (nan+nan*j), (nan+nan*j), (nan+nan*j), (nan+nan*j), (nan+nan*j), (nan+nan*j), (nan+nan*j), (nan+nan*j), (nan+nan*j), (nan+nan*j), (nan+nan*j), (nan+nan*j), (nan+nan*j), (nan+nan*j), (nan+nan*j), (nan+nan*j), (nan+nan*j), (nan+nan*j), (nan+nan*j), (nan+nan*j), (nan+nan*j), (nan+nan*j), (nan+nan*j), (nan+nan*j), (nan+nan*j), (nan+nan*j), (nan+nan*j), (nan+nan*j), (nan+nan*j), (nan+nan*j), (nan+nan*j), (nan+nan*j), (nan+nan*j), (nan+nan*j), (nan+nan*j), (nan+nan*j), (nan+nan*j), (nan+nan*j), (nan+nan*j), (nan+nan*j), (nan+nan*j), (nan+nan*j), (nan+nan*j), (nan+nan*j), (nan+nan*j), (nan+nan*j), (nan+nan*j), (nan+nan*j), (nan+nan*j), (nan+nan*j), (nan+nan*j), (nan+nan*j), (nan+nan*j), (nan+nan*j), (nan+nan*j), (nan+nan*j), (nan+nan*j), (nan+nan*j), (nan+nan*j), (nan+nan*j), (nan+nan*j), (nan+nan*j), (nan+nan*j), (nan+nan*j), (nan+nan*j), (nan+nan*j), (nan+nan*j), (nan+nan*j), (nan+nan*j), (nan+nan*j), (nan+nan*j), (nan+nan*j), (nan+nan*j), (nan+nan*j)]\n",
      "acc [ 0.03673878  0.05126308  0.06674992 ...,  0.02525417  0.02174901\n",
      "  0.01858583]\n",
      "ppg [-17.5 -18.  -19.  ...,  13.5  10.5   7.5]\n",
      "C [(nan+nan*j), (nan+nan*j), (nan+nan*j), (nan+nan*j), (nan+nan*j), (nan+nan*j), (nan+nan*j), (nan+nan*j), (nan+nan*j), (nan+nan*j), (nan+nan*j), (nan+nan*j), (nan+nan*j), (nan+nan*j), (nan+nan*j), (nan+nan*j), (nan+nan*j), (nan+nan*j), (nan+nan*j), (nan+nan*j), (nan+nan*j), (nan+nan*j), (nan+nan*j), (nan+nan*j), (nan+nan*j), (nan+nan*j), (nan+nan*j), (nan+nan*j), (nan+nan*j), (nan+nan*j), (nan+nan*j), (nan+nan*j), (nan+nan*j), (nan+nan*j), (nan+nan*j), (nan+nan*j), (nan+nan*j), (nan+nan*j), (nan+nan*j), (nan+nan*j), (nan+nan*j), (nan+nan*j), (nan+nan*j), (nan+nan*j), (nan+nan*j), (nan+nan*j), (nan+nan*j), (nan+nan*j), (nan+nan*j), (nan+nan*j), (nan+nan*j), (nan+nan*j), (nan+nan*j), (nan+nan*j), (nan+nan*j), (nan+nan*j), (nan+nan*j), (nan+nan*j), (nan+nan*j), (nan+nan*j), (nan+nan*j), (nan+nan*j), (nan+nan*j), (nan+nan*j), (nan+nan*j), (nan+nan*j), (nan+nan*j), (nan+nan*j), (nan+nan*j), (nan+nan*j), (nan+nan*j), (nan+nan*j), (nan+nan*j), (nan+nan*j), (nan+nan*j), (nan+nan*j), (nan+nan*j), (nan+nan*j), (nan+nan*j), (nan+nan*j), (nan+nan*j), (nan+nan*j), (nan+nan*j), (nan+nan*j), (nan+nan*j), (nan+nan*j), (nan+nan*j), (nan+nan*j), (nan+nan*j), (nan+nan*j), (nan+nan*j), (nan+nan*j), (nan+nan*j), (nan+nan*j), (nan+nan*j), (nan+nan*j), (nan+nan*j), (nan+nan*j), (nan+nan*j), (nan+nan*j), (nan+nan*j), (nan+nan*j), (nan+nan*j), (nan+nan*j), (nan+nan*j), (nan+nan*j), (nan+nan*j), (nan+nan*j), (nan+nan*j), (nan+nan*j), (nan+nan*j), (nan+nan*j), (nan+nan*j), (nan+nan*j), (nan+nan*j), (nan+nan*j), (nan+nan*j), (nan+nan*j), (nan+nan*j), (nan+nan*j), (nan+nan*j), (nan+nan*j), (nan+nan*j), (nan+nan*j), (nan+nan*j), (nan+nan*j), (nan+nan*j), (nan+nan*j), (nan+nan*j), (nan+nan*j), (nan+nan*j), (nan+nan*j), (nan+nan*j), (nan+nan*j), (nan+nan*j), (nan+nan*j), (nan+nan*j), (nan+nan*j), (nan+nan*j), (nan+nan*j), (nan+nan*j), (nan+nan*j), (nan+nan*j), (nan+nan*j), (nan+nan*j), (nan+nan*j), (nan+nan*j), (nan+nan*j)]\n",
      "acc [ 0.02619441  0.03285809  0.04146506 ...,  0.03179822  0.03036709\n",
      "  0.02825433]\n",
      "ppg [  45.    51.5   58.  ...,  106.5  118.5  127.5]\n",
      "C [(nan+nan*j), (nan+nan*j), (nan+nan*j), (nan+nan*j), (nan+nan*j), (nan+nan*j), (nan+nan*j), (nan+nan*j), (nan+nan*j), (nan+nan*j), (nan+nan*j), (nan+nan*j), (nan+nan*j), (nan+nan*j), (nan+nan*j), (nan+nan*j), (nan+nan*j), (nan+nan*j), (nan+nan*j), (nan+nan*j), (nan+nan*j), (nan+nan*j), (nan+nan*j), (nan+nan*j), (nan+nan*j), (nan+nan*j), (nan+nan*j), (nan+nan*j), (nan+nan*j), (nan+nan*j), (nan+nan*j), (nan+nan*j), (nan+nan*j), (nan+nan*j), (nan+nan*j), (nan+nan*j), (nan+nan*j), (nan+nan*j), (nan+nan*j), (nan+nan*j), (nan+nan*j), (nan+nan*j), (nan+nan*j), (nan+nan*j), (nan+nan*j), (nan+nan*j), (nan+nan*j), (nan+nan*j), (nan+nan*j), (nan+nan*j), (nan+nan*j), (nan+nan*j), (nan+nan*j), (nan+nan*j), (nan+nan*j), (nan+nan*j), (nan+nan*j), (nan+nan*j), (nan+nan*j), (nan+nan*j), (nan+nan*j), (nan+nan*j), (nan+nan*j), (nan+nan*j), (nan+nan*j), (nan+nan*j), (nan+nan*j), (nan+nan*j), (nan+nan*j), (nan+nan*j), (nan+nan*j), (nan+nan*j), (nan+nan*j), (nan+nan*j), (nan+nan*j), (nan+nan*j), (nan+nan*j), (nan+nan*j), (nan+nan*j), (nan+nan*j), (nan+nan*j), (nan+nan*j), (nan+nan*j), (nan+nan*j), (nan+nan*j), (nan+nan*j), (nan+nan*j), (nan+nan*j), (nan+nan*j), (nan+nan*j), (nan+nan*j), (nan+nan*j), (nan+nan*j), (nan+nan*j), (nan+nan*j), (nan+nan*j), (nan+nan*j), (nan+nan*j), (nan+nan*j), (nan+nan*j), (nan+nan*j), (nan+nan*j), (nan+nan*j), (nan+nan*j), (nan+nan*j), (nan+nan*j), (nan+nan*j), (nan+nan*j), (nan+nan*j), (nan+nan*j), (nan+nan*j), (nan+nan*j), (nan+nan*j), (nan+nan*j), (nan+nan*j), (nan+nan*j), (nan+nan*j), (nan+nan*j), (nan+nan*j), (nan+nan*j), (nan+nan*j), (nan+nan*j), (nan+nan*j), (nan+nan*j), (nan+nan*j), (nan+nan*j), (nan+nan*j), (nan+nan*j), (nan+nan*j), (nan+nan*j), (nan+nan*j), (nan+nan*j), (nan+nan*j), (nan+nan*j), (nan+nan*j), (nan+nan*j), (nan+nan*j), (nan+nan*j), (nan+nan*j), (nan+nan*j)]\n",
      "acc [ 0.01705958  0.01927834  0.02309448 ...,  0.0605339   0.05927805\n",
      "  0.05715314]\n",
      "ppg [ 6.   4.5  4.  ..., -5.  -9.  -9.5]\n",
      "C [(nan+nan*j), (nan+nan*j), (nan+nan*j), (nan+nan*j), (nan+nan*j), (nan+nan*j), (nan+nan*j), (nan+nan*j), (nan+nan*j), (nan+nan*j), (nan+nan*j), (nan+nan*j), (nan+nan*j), (nan+nan*j), (nan+nan*j), (nan+nan*j), (nan+nan*j), (nan+nan*j), (nan+nan*j), (nan+nan*j), (nan+nan*j), (nan+nan*j), (nan+nan*j), (nan+nan*j), (nan+nan*j), (nan+nan*j), (nan+nan*j), (nan+nan*j), (nan+nan*j), (nan+nan*j), (nan+nan*j), (nan+nan*j), (nan+nan*j), (nan+nan*j), (nan+nan*j), (nan+nan*j), (nan+nan*j), (nan+nan*j), (nan+nan*j), (nan+nan*j), (nan+nan*j), (nan+nan*j), (nan+nan*j), (nan+nan*j), (nan+nan*j), (nan+nan*j), (nan+nan*j), (nan+nan*j), (nan+nan*j), (nan+nan*j), (nan+nan*j), (nan+nan*j), (nan+nan*j), (nan+nan*j), (nan+nan*j), (nan+nan*j), (nan+nan*j), (nan+nan*j), (nan+nan*j), (nan+nan*j), (nan+nan*j), (nan+nan*j), (nan+nan*j), (nan+nan*j), (nan+nan*j), (nan+nan*j), (nan+nan*j), (nan+nan*j), (nan+nan*j), (nan+nan*j), (nan+nan*j), (nan+nan*j), (nan+nan*j), (nan+nan*j), (nan+nan*j), (nan+nan*j), (nan+nan*j), (nan+nan*j), (nan+nan*j), (nan+nan*j), (nan+nan*j), (nan+nan*j), (nan+nan*j), (nan+nan*j), (nan+nan*j), (nan+nan*j), (nan+nan*j), (nan+nan*j), (nan+nan*j), (nan+nan*j), (nan+nan*j), (nan+nan*j), (nan+nan*j), (nan+nan*j), (nan+nan*j), (nan+nan*j), (nan+nan*j), (nan+nan*j), (nan+nan*j), (nan+nan*j), (nan+nan*j), (nan+nan*j), (nan+nan*j), (nan+nan*j), (nan+nan*j), (nan+nan*j), (nan+nan*j)]\n",
      "acc [ 0.00510237  0.00475589  0.00460647 ...,  0.01403788  0.01212226\n",
      "  0.01026927]\n",
      "ppg [ 4.5  5.   4.5 ...,  5.   4.   4.5]\n",
      "C [(nan+nan*j), (nan+nan*j), (nan+nan*j), (nan+nan*j), (nan+nan*j), (nan+nan*j), (nan+nan*j), (nan+nan*j), (nan+nan*j), (nan+nan*j), (nan+nan*j), (nan+nan*j), (nan+nan*j), (nan+nan*j), (nan+nan*j), (nan+nan*j), (nan+nan*j), (nan+nan*j), (nan+nan*j), (nan+nan*j), (nan+nan*j), (nan+nan*j), (nan+nan*j), (nan+nan*j), (nan+nan*j), (nan+nan*j), (nan+nan*j), (nan+nan*j), (nan+nan*j), (nan+nan*j), (nan+nan*j), (nan+nan*j), (nan+nan*j), (nan+nan*j), (nan+nan*j), (nan+nan*j), (nan+nan*j), (nan+nan*j), (nan+nan*j), (nan+nan*j), (nan+nan*j), (nan+nan*j), (nan+nan*j), (nan+nan*j), (nan+nan*j), (nan+nan*j), (nan+nan*j), (nan+nan*j), (nan+nan*j), (nan+nan*j), (nan+nan*j), (nan+nan*j), (nan+nan*j), (nan+nan*j), (nan+nan*j), (nan+nan*j), (nan+nan*j), (nan+nan*j), (nan+nan*j), (nan+nan*j), (nan+nan*j), (nan+nan*j), (nan+nan*j), (nan+nan*j), (nan+nan*j), (nan+nan*j), (nan+nan*j), (nan+nan*j), (nan+nan*j), (nan+nan*j), (nan+nan*j), (nan+nan*j), (nan+nan*j), (nan+nan*j), (nan+nan*j), (nan+nan*j), (nan+nan*j), (nan+nan*j), (nan+nan*j), (nan+nan*j), (nan+nan*j), (nan+nan*j), (nan+nan*j), (nan+nan*j), (nan+nan*j), (nan+nan*j), (nan+nan*j), (nan+nan*j), (nan+nan*j), (nan+nan*j), (nan+nan*j), (nan+nan*j), (nan+nan*j), (nan+nan*j), (nan+nan*j), (nan+nan*j), (nan+nan*j), (nan+nan*j), (nan+nan*j), (nan+nan*j), (nan+nan*j), (nan+nan*j), (nan+nan*j), (nan+nan*j), (nan+nan*j), (nan+nan*j), (nan+nan*j), (nan+nan*j), (nan+nan*j), (nan+nan*j), (nan+nan*j), (nan+nan*j), (nan+nan*j), (nan+nan*j), (nan+nan*j), (nan+nan*j), (nan+nan*j), (nan+nan*j), (nan+nan*j), (nan+nan*j), (nan+nan*j), (nan+nan*j), (nan+nan*j), (nan+nan*j), (nan+nan*j), (nan+nan*j), (nan+nan*j), (nan+nan*j), (nan+nan*j), (nan+nan*j), (nan+nan*j), (nan+nan*j), (nan+nan*j), (nan+nan*j), (nan+nan*j), (nan+nan*j), (nan+nan*j), (nan+nan*j), (nan+nan*j), (nan+nan*j), (nan+nan*j), (nan+nan*j), (nan+nan*j), (nan+nan*j), (nan+nan*j), (nan+nan*j)]\n",
      "acc [ 0.01273878  0.01503511  0.01763354 ...,  0.02919434  0.02678602\n",
      "  0.0241706 ]\n",
      "ppg [ 44.5  46.5  48.5 ..., -46.  -52.5 -59.5]\n",
      "C [(nan+nan*j), (nan+nan*j), (nan+nan*j), (nan+nan*j), (nan+nan*j), (nan+nan*j), (nan+nan*j), (nan+nan*j), (nan+nan*j), (nan+nan*j), (nan+nan*j), (nan+nan*j), (nan+nan*j), (nan+nan*j), (nan+nan*j), (nan+nan*j), (nan+nan*j), (nan+nan*j), (nan+nan*j), (nan+nan*j), (nan+nan*j), (nan+nan*j), (nan+nan*j), (nan+nan*j), (nan+nan*j), (nan+nan*j), (nan+nan*j), (nan+nan*j), (nan+nan*j), (nan+nan*j), (nan+nan*j), (nan+nan*j), (nan+nan*j), (nan+nan*j), (nan+nan*j), (nan+nan*j), (nan+nan*j), (nan+nan*j), (nan+nan*j), (nan+nan*j), (nan+nan*j), (nan+nan*j), (nan+nan*j), (nan+nan*j), (nan+nan*j), (nan+nan*j), (nan+nan*j), (nan+nan*j), (nan+nan*j), (nan+nan*j), (nan+nan*j), (nan+nan*j), (nan+nan*j), (nan+nan*j), (nan+nan*j), (nan+nan*j), (nan+nan*j), (nan+nan*j), (nan+nan*j), (nan+nan*j), (nan+nan*j), (nan+nan*j), (nan+nan*j), (nan+nan*j), (nan+nan*j), (nan+nan*j), (nan+nan*j), (nan+nan*j), (nan+nan*j), (nan+nan*j), (nan+nan*j), (nan+nan*j), (nan+nan*j), (nan+nan*j), (nan+nan*j), (nan+nan*j), (nan+nan*j), (nan+nan*j), (nan+nan*j), (nan+nan*j), (nan+nan*j), (nan+nan*j), (nan+nan*j), (nan+nan*j), (nan+nan*j), (nan+nan*j), (nan+nan*j), (nan+nan*j), (nan+nan*j), (nan+nan*j), (nan+nan*j), (nan+nan*j), (nan+nan*j), (nan+nan*j), (nan+nan*j), (nan+nan*j), (nan+nan*j), (nan+nan*j), (nan+nan*j), (nan+nan*j), (nan+nan*j), (nan+nan*j), (nan+nan*j), (nan+nan*j), (nan+nan*j), (nan+nan*j), (nan+nan*j), (nan+nan*j), (nan+nan*j), (nan+nan*j), (nan+nan*j), (nan+nan*j), (nan+nan*j), (nan+nan*j), (nan+nan*j), (nan+nan*j), (nan+nan*j), (nan+nan*j), (nan+nan*j), (nan+nan*j), (nan+nan*j), (nan+nan*j), (nan+nan*j), (nan+nan*j), (nan+nan*j), (nan+nan*j), (nan+nan*j), (nan+nan*j), (nan+nan*j), (nan+nan*j), (nan+nan*j), (nan+nan*j), (nan+nan*j), (nan+nan*j), (nan+nan*j), (nan+nan*j), (nan+nan*j), (nan+nan*j), (nan+nan*j), (nan+nan*j), (nan+nan*j), (nan+nan*j), (nan+nan*j), (nan+nan*j), (nan+nan*j), (nan+nan*j)]\n"
     ]
    },
    {
     "name": "stdout",
     "output_type": "stream",
     "text": [
      "acc [ 0.00387196  0.00494774  0.00605531 ...,  0.16231549  0.14561096\n",
      "  0.1288215 ]\n",
      "ppg [  2.    2.5   2.  ..., -16.5 -15.5 -14.5]\n",
      "C [(nan+nan*j), (nan+nan*j), (nan+nan*j), (nan+nan*j), (nan+nan*j), (nan+nan*j), (nan+nan*j), (nan+nan*j), (nan+nan*j), (nan+nan*j), (nan+nan*j), (nan+nan*j), (nan+nan*j), (nan+nan*j), (nan+nan*j), (nan+nan*j), (nan+nan*j), (nan+nan*j), (nan+nan*j), (nan+nan*j), (nan+nan*j), (nan+nan*j), (nan+nan*j), (nan+nan*j), (nan+nan*j), (nan+nan*j), (nan+nan*j), (nan+nan*j), (nan+nan*j), (nan+nan*j), (nan+nan*j), (nan+nan*j), (nan+nan*j), (nan+nan*j), (nan+nan*j), (nan+nan*j), (nan+nan*j), (nan+nan*j), (nan+nan*j), (nan+nan*j), (nan+nan*j), (nan+nan*j), (nan+nan*j), (nan+nan*j), (nan+nan*j), (nan+nan*j), (nan+nan*j), (nan+nan*j), (nan+nan*j), (nan+nan*j), (nan+nan*j), (nan+nan*j), (nan+nan*j), (nan+nan*j), (nan+nan*j), (nan+nan*j), (nan+nan*j), (nan+nan*j), (nan+nan*j), (nan+nan*j), (nan+nan*j), (nan+nan*j), (nan+nan*j), (nan+nan*j), (nan+nan*j), (nan+nan*j), (nan+nan*j), (nan+nan*j), (nan+nan*j), (nan+nan*j), (nan+nan*j), (nan+nan*j), (nan+nan*j), (nan+nan*j), (nan+nan*j), (nan+nan*j), (nan+nan*j), (nan+nan*j), (nan+nan*j), (nan+nan*j), (nan+nan*j), (nan+nan*j), (nan+nan*j), (nan+nan*j), (nan+nan*j), (nan+nan*j), (nan+nan*j), (nan+nan*j), (nan+nan*j), (nan+nan*j), (nan+nan*j), (nan+nan*j), (nan+nan*j), (nan+nan*j), (nan+nan*j), (nan+nan*j), (nan+nan*j), (nan+nan*j), (nan+nan*j), (nan+nan*j), (nan+nan*j), (nan+nan*j), (nan+nan*j), (nan+nan*j), (nan+nan*j), (nan+nan*j), (nan+nan*j), (nan+nan*j), (nan+nan*j), (nan+nan*j), (nan+nan*j), (nan+nan*j), (nan+nan*j), (nan+nan*j), (nan+nan*j), (nan+nan*j), (nan+nan*j), (nan+nan*j), (nan+nan*j), (nan+nan*j), (nan+nan*j), (nan+nan*j), (nan+nan*j), (nan+nan*j), (nan+nan*j), (nan+nan*j), (nan+nan*j), (nan+nan*j), (nan+nan*j), (nan+nan*j), (nan+nan*j), (nan+nan*j), (nan+nan*j), (nan+nan*j), (nan+nan*j), (nan+nan*j), (nan+nan*j), (nan+nan*j), (nan+nan*j), (nan+nan*j), (nan+nan*j), (nan+nan*j), (nan+nan*j), (nan+nan*j), (nan+nan*j), (nan+nan*j), (nan+nan*j), (nan+nan*j), (nan+nan*j), (nan+nan*j)]\n",
      "acc [ 0.03865216  0.04719128  0.05706436 ...,  0.02219742  0.02017947\n",
      "  0.01799075]\n",
      "ppg [  6.5  12.   16.5 ..., -19.  -16.  -13.5]\n",
      "C [(nan+nan*j), (nan+nan*j), (nan+nan*j), (nan+nan*j), (nan+nan*j), (nan+nan*j), (nan+nan*j), (nan+nan*j), (nan+nan*j), (nan+nan*j), (nan+nan*j), (nan+nan*j), (nan+nan*j), (nan+nan*j), (nan+nan*j), (nan+nan*j), (nan+nan*j), (nan+nan*j), (nan+nan*j), (nan+nan*j), (nan+nan*j), (nan+nan*j), (nan+nan*j), (nan+nan*j), (nan+nan*j), (nan+nan*j), (nan+nan*j), (nan+nan*j), (nan+nan*j), (nan+nan*j), (nan+nan*j), (nan+nan*j), (nan+nan*j), (nan+nan*j), (nan+nan*j), (nan+nan*j), (nan+nan*j), (nan+nan*j), (nan+nan*j), (nan+nan*j), (nan+nan*j), (nan+nan*j), (nan+nan*j), (nan+nan*j), (nan+nan*j), (nan+nan*j), (nan+nan*j), (nan+nan*j), (nan+nan*j), (nan+nan*j), (nan+nan*j), (nan+nan*j), (nan+nan*j), (nan+nan*j), (nan+nan*j), (nan+nan*j), (nan+nan*j), (nan+nan*j), (nan+nan*j), (nan+nan*j), (nan+nan*j), (nan+nan*j), (nan+nan*j), (nan+nan*j), (nan+nan*j), (nan+nan*j), (nan+nan*j), (nan+nan*j), (nan+nan*j), (nan+nan*j), (nan+nan*j), (nan+nan*j), (nan+nan*j), (nan+nan*j), (nan+nan*j), (nan+nan*j), (nan+nan*j), (nan+nan*j), (nan+nan*j), (nan+nan*j), (nan+nan*j), (nan+nan*j), (nan+nan*j), (nan+nan*j), (nan+nan*j), (nan+nan*j), (nan+nan*j), (nan+nan*j), (nan+nan*j), (nan+nan*j), (nan+nan*j), (nan+nan*j), (nan+nan*j), (nan+nan*j), (nan+nan*j), (nan+nan*j), (nan+nan*j), (nan+nan*j), (nan+nan*j), (nan+nan*j), (nan+nan*j), (nan+nan*j), (nan+nan*j), (nan+nan*j), (nan+nan*j), (nan+nan*j), (nan+nan*j), (nan+nan*j), (nan+nan*j), (nan+nan*j), (nan+nan*j), (nan+nan*j), (nan+nan*j), (nan+nan*j), (nan+nan*j), (nan+nan*j), (nan+nan*j), (nan+nan*j), (nan+nan*j), (nan+nan*j), (nan+nan*j), (nan+nan*j), (nan+nan*j), (nan+nan*j), (nan+nan*j), (nan+nan*j), (nan+nan*j), (nan+nan*j), (nan+nan*j), (nan+nan*j), (nan+nan*j), (nan+nan*j), (nan+nan*j), (nan+nan*j), (nan+nan*j), (nan+nan*j), (nan+nan*j), (nan+nan*j), (nan+nan*j), (nan+nan*j), (nan+nan*j), (nan+nan*j), (nan+nan*j)]\n",
      "acc [ 0.00589075  0.00614565  0.00651863 ...,  0.02096039  0.01907301\n",
      "  0.01740064]\n",
      "ppg [  -2.5   -3.5   -2.5 ...,  190.   199.5  205. ]\n",
      "C [(nan+nan*j), (nan+nan*j), (nan+nan*j), (nan+nan*j), (nan+nan*j), (nan+nan*j), (nan+nan*j), (nan+nan*j), (nan+nan*j), (nan+nan*j), (nan+nan*j), (nan+nan*j), (nan+nan*j), (nan+nan*j), (nan+nan*j), (nan+nan*j), (nan+nan*j), (nan+nan*j), (nan+nan*j), (nan+nan*j), (nan+nan*j), (nan+nan*j), (nan+nan*j), (nan+nan*j), (nan+nan*j), (nan+nan*j), (nan+nan*j), (nan+nan*j), (nan+nan*j), (nan+nan*j), (nan+nan*j), (nan+nan*j), (nan+nan*j), (nan+nan*j), (nan+nan*j), (nan+nan*j), (nan+nan*j), (nan+nan*j), (nan+nan*j), (nan+nan*j), (nan+nan*j), (nan+nan*j), (nan+nan*j), (nan+nan*j), (nan+nan*j), (nan+nan*j), (nan+nan*j), (nan+nan*j), (nan+nan*j), (nan+nan*j), (nan+nan*j), (nan+nan*j), (nan+nan*j), (nan+nan*j), (nan+nan*j), (nan+nan*j), (nan+nan*j), (nan+nan*j), (nan+nan*j), (nan+nan*j), (nan+nan*j), (nan+nan*j), (nan+nan*j), (nan+nan*j), (nan+nan*j), (nan+nan*j), (nan+nan*j), (nan+nan*j), (nan+nan*j), (nan+nan*j), (nan+nan*j), (nan+nan*j), (nan+nan*j), (nan+nan*j), (nan+nan*j), (nan+nan*j), (nan+nan*j), (nan+nan*j), (nan+nan*j), (nan+nan*j), (nan+nan*j), (nan+nan*j), (nan+nan*j), (nan+nan*j), (nan+nan*j), (nan+nan*j), (nan+nan*j), (nan+nan*j), (nan+nan*j), (nan+nan*j), (nan+nan*j), (nan+nan*j), (nan+nan*j), (nan+nan*j), (nan+nan*j), (nan+nan*j), (nan+nan*j), (nan+nan*j), (nan+nan*j), (nan+nan*j), (nan+nan*j), (nan+nan*j), (nan+nan*j), (nan+nan*j), (nan+nan*j), (nan+nan*j), (nan+nan*j), (nan+nan*j), (nan+nan*j), (nan+nan*j), (nan+nan*j), (nan+nan*j), (nan+nan*j), (nan+nan*j), (nan+nan*j), (nan+nan*j), (nan+nan*j), (nan+nan*j), (nan+nan*j), (nan+nan*j), (nan+nan*j), (nan+nan*j), (nan+nan*j), (nan+nan*j), (nan+nan*j), (nan+nan*j), (nan+nan*j), (nan+nan*j), (nan+nan*j), (nan+nan*j), (nan+nan*j), (nan+nan*j), (nan+nan*j), (nan+nan*j), (nan+nan*j), (nan+nan*j), (nan+nan*j), (nan+nan*j), (nan+nan*j), (nan+nan*j), (nan+nan*j), (nan+nan*j), (nan+nan*j), (nan+nan*j), (nan+nan*j), (nan+nan*j), (nan+nan*j), (nan+nan*j), (nan+nan*j), (nan+nan*j), (nan+nan*j), (nan+nan*j), (nan+nan*j), (nan+nan*j), (nan+nan*j), (nan+nan*j), (nan+nan*j), (nan+nan*j), (nan+nan*j), (nan+nan*j)]\n",
      "acc [ 0.03821949  0.03698005  0.03621522 ...,  0.13398418  0.1159977\n",
      "  0.09971221]\n",
      "ppg [-29.5 -29.5 -29.5 ...,  54.5  70.5  86.5]\n",
      "C [(nan+nan*j), (nan+nan*j), (nan+nan*j), (nan+nan*j), (nan+nan*j), (nan+nan*j), (nan+nan*j), (nan+nan*j), (nan+nan*j), (nan+nan*j), (nan+nan*j), (nan+nan*j), (nan+nan*j), (nan+nan*j), (nan+nan*j), (nan+nan*j), (nan+nan*j), (nan+nan*j), (nan+nan*j), (nan+nan*j), (nan+nan*j), (nan+nan*j), (nan+nan*j), (nan+nan*j), (nan+nan*j), (nan+nan*j), (nan+nan*j), (nan+nan*j), (nan+nan*j), (nan+nan*j), (nan+nan*j), (nan+nan*j), (nan+nan*j), (nan+nan*j), (nan+nan*j), (nan+nan*j), (nan+nan*j), (nan+nan*j), (nan+nan*j), (nan+nan*j), (nan+nan*j), (nan+nan*j), (nan+nan*j), (nan+nan*j), (nan+nan*j), (nan+nan*j), (nan+nan*j), (nan+nan*j), (nan+nan*j), (nan+nan*j), (nan+nan*j), (nan+nan*j), (nan+nan*j), (nan+nan*j), (nan+nan*j), (nan+nan*j), (nan+nan*j), (nan+nan*j), (nan+nan*j), (nan+nan*j), (nan+nan*j), (nan+nan*j), (nan+nan*j), (nan+nan*j), (nan+nan*j), (nan+nan*j), (nan+nan*j), (nan+nan*j), (nan+nan*j), (nan+nan*j), (nan+nan*j), (nan+nan*j), (nan+nan*j), (nan+nan*j), (nan+nan*j), (nan+nan*j), (nan+nan*j), (nan+nan*j), (nan+nan*j), (nan+nan*j), (nan+nan*j), (nan+nan*j), (nan+nan*j), (nan+nan*j), (nan+nan*j), (nan+nan*j), (nan+nan*j), (nan+nan*j), (nan+nan*j), (nan+nan*j), (nan+nan*j), (nan+nan*j), (nan+nan*j), (nan+nan*j), (nan+nan*j), (nan+nan*j), (nan+nan*j), (nan+nan*j), (nan+nan*j), (nan+nan*j), (nan+nan*j), (nan+nan*j), (nan+nan*j), (nan+nan*j), (nan+nan*j), (nan+nan*j), (nan+nan*j), (nan+nan*j), (nan+nan*j), (nan+nan*j), (nan+nan*j), (nan+nan*j), (nan+nan*j), (nan+nan*j), (nan+nan*j), (nan+nan*j), (nan+nan*j), (nan+nan*j), (nan+nan*j), (nan+nan*j), (nan+nan*j), (nan+nan*j), (nan+nan*j), (nan+nan*j), (nan+nan*j), (nan+nan*j), (nan+nan*j), (nan+nan*j), (nan+nan*j), (nan+nan*j), (nan+nan*j), (nan+nan*j), (nan+nan*j), (nan+nan*j), (nan+nan*j), (nan+nan*j), (nan+nan*j), (nan+nan*j), (nan+nan*j), (nan+nan*j), (nan+nan*j), (nan+nan*j), (nan+nan*j), (nan+nan*j), (nan+nan*j), (nan+nan*j), (nan+nan*j), (nan+nan*j), (nan+nan*j)]\n",
      "acc [ 0.02011332  0.01620663  0.0195803  ...,  0.03660967  0.03573228\n",
      "  0.03399046]\n",
      "ppg [ 70.5  63.5  56.  ..., -13.5 -24.5 -34. ]\n",
      "C [(nan+nan*j), (nan+nan*j), (nan+nan*j), (nan+nan*j), (nan+nan*j), (nan+nan*j), (nan+nan*j), (nan+nan*j), (nan+nan*j), (nan+nan*j), (nan+nan*j), (nan+nan*j), (nan+nan*j), (nan+nan*j), (nan+nan*j), (nan+nan*j), (nan+nan*j), (nan+nan*j), (nan+nan*j), (nan+nan*j), (nan+nan*j), (nan+nan*j), (nan+nan*j), (nan+nan*j), (nan+nan*j), (nan+nan*j), (nan+nan*j), (nan+nan*j), (nan+nan*j), (nan+nan*j), (nan+nan*j), (nan+nan*j), (nan+nan*j), (nan+nan*j), (nan+nan*j), (nan+nan*j), (nan+nan*j), (nan+nan*j), (nan+nan*j), (nan+nan*j), (nan+nan*j), (nan+nan*j), (nan+nan*j), (nan+nan*j), (nan+nan*j), (nan+nan*j), (nan+nan*j), (nan+nan*j), (nan+nan*j), (nan+nan*j), (nan+nan*j), (nan+nan*j), (nan+nan*j), (nan+nan*j), (nan+nan*j), (nan+nan*j), (nan+nan*j), (nan+nan*j), (nan+nan*j), (nan+nan*j), (nan+nan*j), (nan+nan*j), (nan+nan*j), (nan+nan*j), (nan+nan*j), (nan+nan*j), (nan+nan*j), (nan+nan*j), (nan+nan*j), (nan+nan*j), (nan+nan*j), (nan+nan*j), (nan+nan*j), (nan+nan*j), (nan+nan*j), (nan+nan*j), (nan+nan*j), (nan+nan*j), (nan+nan*j), (nan+nan*j), (nan+nan*j), (nan+nan*j), (nan+nan*j), (nan+nan*j), (nan+nan*j), (nan+nan*j), (nan+nan*j), (nan+nan*j), (nan+nan*j), (nan+nan*j), (nan+nan*j), (nan+nan*j), (nan+nan*j), (nan+nan*j), (nan+nan*j), (nan+nan*j), (nan+nan*j), (nan+nan*j), (nan+nan*j), (nan+nan*j), (nan+nan*j), (nan+nan*j), (nan+nan*j), (nan+nan*j), (nan+nan*j), (nan+nan*j), (nan+nan*j), (nan+nan*j), (nan+nan*j), (nan+nan*j), (nan+nan*j), (nan+nan*j), (nan+nan*j), (nan+nan*j), (nan+nan*j), (nan+nan*j), (nan+nan*j), (nan+nan*j), (nan+nan*j), (nan+nan*j), (nan+nan*j), (nan+nan*j), (nan+nan*j), (nan+nan*j), (nan+nan*j), (nan+nan*j), (nan+nan*j), (nan+nan*j), (nan+nan*j), (nan+nan*j), (nan+nan*j), (nan+nan*j), (nan+nan*j), (nan+nan*j), (nan+nan*j), (nan+nan*j), (nan+nan*j), (nan+nan*j), (nan+nan*j), (nan+nan*j), (nan+nan*j), (nan+nan*j), (nan+nan*j)]\n",
      "acc [ 0.04512787  0.05302684  0.06126766 ...,  0.09263072  0.08439664\n",
      "  0.07589609]\n",
      "ppg [ -9.5 -13.  -15.5 ...,  -3.  -11.  -22.5]\n",
      "C [(nan+nan*j), (nan+nan*j), (nan+nan*j), (nan+nan*j), (nan+nan*j), (nan+nan*j), (nan+nan*j), (nan+nan*j), (nan+nan*j), (nan+nan*j), (nan+nan*j), (nan+nan*j), (nan+nan*j), (nan+nan*j), (nan+nan*j), (nan+nan*j), (nan+nan*j), (nan+nan*j), (nan+nan*j), (nan+nan*j), (nan+nan*j), (nan+nan*j), (nan+nan*j), (nan+nan*j), (nan+nan*j), (nan+nan*j), (nan+nan*j), (nan+nan*j), (nan+nan*j), (nan+nan*j), (nan+nan*j), (nan+nan*j), (nan+nan*j), (nan+nan*j), (nan+nan*j), (nan+nan*j), (nan+nan*j), (nan+nan*j), (nan+nan*j), (nan+nan*j), (nan+nan*j), (nan+nan*j), (nan+nan*j), (nan+nan*j), (nan+nan*j), (nan+nan*j), (nan+nan*j), (nan+nan*j), (nan+nan*j), (nan+nan*j), (nan+nan*j), (nan+nan*j), (nan+nan*j), (nan+nan*j), (nan+nan*j), (nan+nan*j), (nan+nan*j), (nan+nan*j), (nan+nan*j), (nan+nan*j), (nan+nan*j), (nan+nan*j), (nan+nan*j), (nan+nan*j), (nan+nan*j), (nan+nan*j), (nan+nan*j), (nan+nan*j), (nan+nan*j), (nan+nan*j), (nan+nan*j), (nan+nan*j), (nan+nan*j), (nan+nan*j), (nan+nan*j), (nan+nan*j), (nan+nan*j), (nan+nan*j), (nan+nan*j), (nan+nan*j), (nan+nan*j), (nan+nan*j), (nan+nan*j), (nan+nan*j), (nan+nan*j), (nan+nan*j), (nan+nan*j), (nan+nan*j), (nan+nan*j), (nan+nan*j), (nan+nan*j), (nan+nan*j), (nan+nan*j), (nan+nan*j), (nan+nan*j), (nan+nan*j), (nan+nan*j), (nan+nan*j), (nan+nan*j), (nan+nan*j), (nan+nan*j), (nan+nan*j), (nan+nan*j), (nan+nan*j), (nan+nan*j), (nan+nan*j), (nan+nan*j), (nan+nan*j), (nan+nan*j), (nan+nan*j), (nan+nan*j), (nan+nan*j), (nan+nan*j), (nan+nan*j), (nan+nan*j), (nan+nan*j), (nan+nan*j), (nan+nan*j), (nan+nan*j), (nan+nan*j), (nan+nan*j), (nan+nan*j), (nan+nan*j), (nan+nan*j), (nan+nan*j), (nan+nan*j), (nan+nan*j), (nan+nan*j), (nan+nan*j), (nan+nan*j), (nan+nan*j), (nan+nan*j), (nan+nan*j), (nan+nan*j), (nan+nan*j), (nan+nan*j), (nan+nan*j), (nan+nan*j), (nan+nan*j), (nan+nan*j), (nan+nan*j), (nan+nan*j), (nan+nan*j), (nan+nan*j), (nan+nan*j), (nan+nan*j)]\n",
      "[  74.33920705   76.35746606   77.14285714 ...,  156.25        155.4404\n",
      "  154.0041    ] [ nan+nanj  nan+nanj  nan+nanj ...,  nan+nanj  nan+nanj  nan+nanj]\n"
     ]
    },
    {
     "name": "stderr",
     "output_type": "stream",
     "text": [
      "/opt/conda/lib/python3.6/site-packages/numpy/lib/function_base.py:4116: RuntimeWarning: Invalid value encountered in percentile\n",
      "  interpolation=interpolation)\n",
      "/opt/conda/lib/python3.6/site-packages/numpy/core/fromnumeric.py:2889: RuntimeWarning: Mean of empty slice.\n",
      "  out=out, **kwargs)\n",
      "/opt/conda/lib/python3.6/site-packages/numpy/core/_methods.py:80: RuntimeWarning: invalid value encountered in double_scalars\n",
      "  ret = ret.dtype.type(ret / rcount)\n"
     ]
    },
    {
     "data": {
      "text/plain": [
       "nan"
      ]
     },
     "execution_count": 41,
     "metadata": {},
     "output_type": "execute_result"
    }
   ],
   "source": [
    "Evaluate()"
   ]
  },
  {
   "cell_type": "markdown",
   "metadata": {},
   "source": [
    "-----\n",
    "### Project Write-up\n",
    "\n",
    "Answer the following prompts to demonstrate understanding of the algorithm you wrote for this specific context.\n",
    "\n",
    "> - **Code Description** - Include details so someone unfamiliar with your project will know how to run your code and use your algorithm. \n",
    "> - **Data Description** - Describe the dataset that was used to train and test the algorithm. Include its short-comings and what data would be required to build a more complete dataset.\n",
    "> - **Algorithhm Description** will include the following:\n",
    ">   - how the algorithm works\n",
    ">   - the specific aspects of the physiology that it takes advantage of\n",
    ">   - a describtion of the algorithm outputs\n",
    ">   - caveats on algorithm outputs \n",
    ">   - common failure modes\n",
    "> - **Algorithm Performance** - Detail how performance was computed (eg. using cross-validation or train-test split) and what metrics were optimized for. Include error metrics that would be relevant to users of your algorithm. Caveat your performance numbers by acknowledging how generalizable they may or may not be on different datasets.\n",
    "\n",
    "Your write-up goes here..."
   ]
  },
  {
   "cell_type": "markdown",
   "metadata": {},
   "source": [
    "-----\n",
    "### Next Steps\n",
    "You will now go to **Test Your Algorithm** to apply a unit test to confirm that your algorithm met the success criteria. "
   ]
  }
 ],
 "metadata": {
  "kernelspec": {
   "display_name": "Python 3",
   "language": "python",
   "name": "python3"
  },
  "language_info": {
   "codemirror_mode": {
    "name": "ipython",
    "version": 3
   },
   "file_extension": ".py",
   "mimetype": "text/x-python",
   "name": "python",
   "nbconvert_exporter": "python",
   "pygments_lexer": "ipython3",
   "version": "3.6.3"
  }
 },
 "nbformat": 4,
 "nbformat_minor": 4
}
